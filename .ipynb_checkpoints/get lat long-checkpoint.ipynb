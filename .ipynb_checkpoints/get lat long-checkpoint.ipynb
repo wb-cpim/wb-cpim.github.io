{
 "cells": [
  {
   "cell_type": "code",
   "execution_count": null,
   "id": "1a3e6272",
   "metadata": {},
   "outputs": [],
   "source": []
  },
  {
   "cell_type": "code",
   "execution_count": null,
   "id": "3380b347",
   "metadata": {},
   "outputs": [],
   "source": []
  },
  {
   "cell_type": "code",
   "execution_count": null,
   "id": "0e7914e3",
   "metadata": {},
   "outputs": [],
   "source": []
  },
  {
   "cell_type": "code",
   "execution_count": null,
   "id": "4b00cff5",
   "metadata": {},
   "outputs": [],
   "source": []
  },
  {
   "cell_type": "code",
   "execution_count": null,
   "id": "5f86c2c2",
   "metadata": {},
   "outputs": [],
   "source": []
  },
  {
   "cell_type": "code",
   "execution_count": null,
   "id": "a7b187f3",
   "metadata": {},
   "outputs": [],
   "source": [
    "import requests\n",
    "from bs4 import BeautifulSoup as bs\n",
    "req = requests.get(\"https://en.wikipedia.org/wiki/Mekliganj_(Vidhan_Sabha_constituency)\").text\n",
    "soup = bs(req, 'lxml')\n",
    "latitude = soup.find(\"span\", {\"class\": \"latitude\"})\n",
    "longitude = soup.find(\"span\", {\"class\": \"longitude\"})\n",
    "print(latitude.text, longitude.text)"
   ]
  },
  {
   "cell_type": "code",
   "execution_count": null,
   "id": "fa4822b9",
   "metadata": {},
   "outputs": [],
   "source": []
  },
  {
   "cell_type": "code",
   "execution_count": null,
   "id": "6937c367",
   "metadata": {},
   "outputs": [],
   "source": []
  }
 ],
 "metadata": {
  "kernelspec": {
   "display_name": "Python 3",
   "language": "python",
   "name": "python3"
  },
  "language_info": {
   "codemirror_mode": {
    "name": "ipython",
    "version": 3
   },
   "file_extension": ".py",
   "mimetype": "text/x-python",
   "name": "python",
   "nbconvert_exporter": "python",
   "pygments_lexer": "ipython3",
   "version": "3.8.8"
  }
 },
 "nbformat": 4,
 "nbformat_minor": 5
}
